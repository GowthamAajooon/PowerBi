{
 "cells": [
  {
   "cell_type": "code",
   "execution_count": 21,
   "id": "1db251ab-fc91-4399-bdb1-1ca91d3ec232",
   "metadata": {},
   "outputs": [
    {
     "name": "stdout",
     "output_type": "stream",
     "text": [
      "Itemsets: {1: {('Teddy Bear',): 3, ('Car',): 4, ('Blocks',): 3, ('Ball',): 2}, 2: {('Blocks', 'Car'): 2, ('Blocks', 'Teddy Bear'): 2, ('Car', 'Teddy Bear'): 2}}\n",
      "Rules: [{Blocks} -> {Car}, {Teddy Bear} -> {Blocks}, {Blocks} -> {Teddy Bear}, {Teddy Bear} -> {Car}]\n",
      "Frequent Itemsets:\n",
      "\n",
      "Association Rules:\n",
      "Unexpected rule format: {Blocks} -> {Car} (conf: 0.667, supp: 0.400, lift: 0.833, conv: 0.600)\n",
      "Unexpected rule format: {Teddy Bear} -> {Blocks} (conf: 0.667, supp: 0.400, lift: 1.111, conv: 1.200)\n",
      "Unexpected rule format: {Blocks} -> {Teddy Bear} (conf: 0.667, supp: 0.400, lift: 1.111, conv: 1.200)\n",
      "Unexpected rule format: {Teddy Bear} -> {Car} (conf: 0.667, supp: 0.400, lift: 0.833, conv: 0.600)\n"
     ]
    }
   ],
   "source": [
    "from efficient_apriori import apriori\n",
    "\n",
    "# List of toy baskets (each tuple represents a basket)\n",
    "toy_baskets = [\n",
    "    ('Teddy Bear', 'Car'),\n",
    "    ('Car', 'Blocks'),\n",
    "    ('Teddy Bear', 'Blocks', 'Ball'),\n",
    "    ('Teddy Bear', 'Car', 'Blocks'),\n",
    "    ('Car', 'Ball')\n",
    "]\n",
    "\n",
    "# Apply the Apriori algorithm\n",
    "itemsets, rules = apriori(toy_baskets, min_support=0.4, min_confidence=0.6)\n",
    "\n",
    "# Print the structure of itemsets and rules\n",
    "print(\"Itemsets:\", itemsets)\n",
    "print(\"Rules:\", rules)\n",
    "\n",
    "# Handling frequent itemsets\n",
    "print(\"Frequent Itemsets:\")\n",
    "if isinstance(itemsets, list):\n",
    "    for itemset in itemsets:\n",
    "        if isinstance(itemset, tuple):\n",
    "            print(f\"Itemset: {itemset[0]}, Support: {itemset[1]}\")\n",
    "        else:\n",
    "            print(\"Unexpected itemset format:\", itemset)\n",
    "\n",
    "# Handling association rules\n",
    "print(\"\\nAssociation Rules:\")\n",
    "if isinstance(rules, list):\n",
    "    for rule in rules:\n",
    "        if isinstance(rule, tuple):\n",
    "            antecedent, consequent, metrics = rule\n",
    "            print(f\"Rule: {antecedent} -> {consequent}, Support: {metrics['support']}, Confidence: {metrics['confidence']}, Lift: {metrics['lift']}\")\n",
    "        else:\n",
    "            print(\"Unexpected rule format:\", rule)\n"
   ]
  },
  {
   "cell_type": "code",
   "execution_count": null,
   "id": "ae4278d9-bf21-428b-b2a5-13a0d18d2761",
   "metadata": {},
   "outputs": [],
   "source": []
  },
  {
   "cell_type": "code",
   "execution_count": null,
   "id": "033f8972-b2c5-46d3-a53a-8f0a3ce61484",
   "metadata": {},
   "outputs": [],
   "source": []
  },
  {
   "cell_type": "code",
   "execution_count": null,
   "id": "01b0b091-5a00-4895-9501-6608235f10fe",
   "metadata": {},
   "outputs": [],
   "source": [
    "import numpy as nm  \n",
    "import matplotlib.pyplot as mtp  \n",
    "import pandas as pd  "
   ]
  },
  {
   "cell_type": "code",
   "execution_count": null,
   "id": "da3c8b12-83e2-45e7-94c1-6842cd5a8563",
   "metadata": {},
   "outputs": [],
   "source": [
    "#Importing the dataset  \n",
    "dataset = pd.read_csv('Groceries.csv')  \n",
    "transactions=[]  \n",
    "for i in range(0, len(dataset)):  # Adjust the range as needed for more transactions\n",
    "    transactions.append([str(dataset.values[i, j]) for j in range(2, dataset.shape[1])])\n",
    "\n",
    "# Applying the Apriori algorithm\n",
    "rules = apriori(transactions=transactions, min_support=0.003, min_confidence=0.2, min_lift=3, min_length=2, max_length=2)\n",
    "\n",
    "# Converting the rules into a list\n",
    "results = list(rules)\n",
    "\n",
    "# Printing the results\n",
    "print(\"Association Rules:\")\n",
    "for rule in results:\n",
    "    print(rule)"
   ]
  },
  {
   "cell_type": "code",
   "execution_count": null,
   "id": "b176d0b8-8e62-4b35-bf21-100b2c4a3e83",
   "metadata": {},
   "outputs": [],
   "source": [
    "results= list(rules)  \n",
    "results   "
   ]
  },
  {
   "cell_type": "code",
   "execution_count": null,
   "id": "960b76c5-0cb1-4e62-b2fa-b452e826e055",
   "metadata": {},
   "outputs": [],
   "source": [
    "import pandas as pd\n",
    "from apyori import apriori\n",
    "\n",
    "# Importing the dataset\n",
    "dataset = pd.read_csv('Groceries.csv')\n",
    "\n",
    "# Initializing an empty list for transactions\n",
    "transactions = []\n",
    "\n",
    "# Looping through the dataset to create the transactions list\n",
    "for i in range(0, len(dataset)):\n",
    "    transactions.append([str(dataset.values[i, j]) for j in range(2, dataset.shape[1])])\n",
    "\n",
    "# Applying the Apriori algorithm\n",
    "rules = apriori(transactions=transactions, min_support=0.003, min_confidence=0.2, min_lift=3, min_length=2, max_length=2)\n",
    "\n",
    "# Converting the rules into a list\n",
    "results = list(rules)\n",
    "\n",
    "# Printing the results\n",
    "print(\"Association Rules:\")\n",
    "for item in results:\n",
    "    pair = item.items\n",
    "    items = [x for x in pair]\n",
    "    print(f\"Rule: {items[0]} -> {items[1]}\")\n",
    "    print(f\"Support: {item.support}\")\n",
    "    print(f\"Confidence: {item.ordered_statistics[0].confidence}\")\n",
    "    print(f\"Lift: {item.ordered_statistics[0].lift}\")\n",
    "    print(\"=====================================\")\n"
   ]
  },
  {
   "cell_type": "code",
   "execution_count": null,
   "id": "e7b7945d-36a3-4b39-80dd-9330d57e6d86",
   "metadata": {},
   "outputs": [],
   "source": []
  }
 ],
 "metadata": {
  "kernelspec": {
   "display_name": "Python 3 (ipykernel)",
   "language": "python",
   "name": "python3"
  },
  "language_info": {
   "codemirror_mode": {
    "name": "ipython",
    "version": 3
   },
   "file_extension": ".py",
   "mimetype": "text/x-python",
   "name": "python",
   "nbconvert_exporter": "python",
   "pygments_lexer": "ipython3",
   "version": "3.9.0"
  }
 },
 "nbformat": 4,
 "nbformat_minor": 5
}
